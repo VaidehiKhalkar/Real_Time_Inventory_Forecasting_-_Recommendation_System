{
  "nbformat": 4,
  "nbformat_minor": 0,
  "metadata": {
    "colab": {
      "provenance": []
    },
    "kernelspec": {
      "name": "python3",
      "display_name": "Python 3"
    },
    "language_info": {
      "name": "python"
    }
  },
  "cells": [
    {
      "cell_type": "code",
      "source": [
        "import pandas as pd\n",
        "import numpy as np\n",
        "import random\n",
        "import re\n",
        "\n",
        "# Step 1: Load dataset\n",
        "df = pd.read_csv('/content/online_retail_II.csv', encoding='ISO-8859-1')\n",
        "\n",
        "# Step 2: Filter relevant columns and clean\n",
        "df = df[['StockCode', 'Description', 'Price']].dropna()\n",
        "df = df[df['Price'] > 0]\n",
        "\n",
        "# Step 3: Extract product name\n",
        "df['p_name'] = df['Description'].apply(lambda x: ' '.join(re.findall(r'[A-Za-z]+', x)[:4]).title())\n",
        "\n",
        "# Step 4: Add dummy Quantity and Vendor\n",
        "vendor_list = ['Apple Inc.', 'Samsung Ltd.', 'Sony Corp.', 'LG Electronics', 'Philips', 'Dell Technologies']\n",
        "df['Quantity'] = np.random.randint(1, 101, size=len(df))\n",
        "df['Vendor'] = np.random.choice(vendor_list, size=len(df))\n",
        "\n",
        "# Step 5: Get only 4932 unique StockCodes\n",
        "df_unique_stockcode = df.drop_duplicates(subset='StockCode').reset_index(drop=True)\n",
        "\n",
        "# Step 6: Optional – reorder columns\n",
        "column_order = ['StockCode', 'p_name', 'Description', 'Price', 'Quantity', 'Vendor']\n",
        "df_unique_stockcode = df_unique_stockcode[column_order]\n",
        "\n",
        "# Step 7: Limit to exactly 4932 rows (if more exist)\n",
        "df_final = df_unique_stockcode.head(4932)\n",
        "\n",
        "# Step 8: Display result\n",
        "print(df_final.head())\n",
        "print(f\"Total unique rows: {len(df_final)}\")\n",
        "\n",
        "# Optional: Save\n",
        "# df_final.to_csv('unique_stockcode_dummy_data.csv', index=False)\n"
      ],
      "metadata": {
        "colab": {
          "base_uri": "https://localhost:8080/"
        },
        "id": "D8hbvhdMBZb_",
        "outputId": "e996c975-0590-44e3-fe2f-dcba6743279b"
      },
      "execution_count": null,
      "outputs": [
        {
          "output_type": "stream",
          "name": "stdout",
          "text": [
            "  StockCode                          p_name  \\\n",
            "0     85048         Cm Christmas Glass Ball   \n",
            "1    79323P              Pink Cherry Lights   \n",
            "2    79323W             White Cherry Lights   \n",
            "3     22041        Record Frame Single Size   \n",
            "4     21232  Strawberry Ceramic Trinket Box   \n",
            "\n",
            "                           Description  Price  Quantity             Vendor  \n",
            "0  15CM CHRISTMAS GLASS BALL 20 LIGHTS   6.95         1  Dell Technologies  \n",
            "1                   PINK CHERRY LIGHTS   6.75        22       Samsung Ltd.  \n",
            "2                  WHITE CHERRY LIGHTS   6.75        21       Samsung Ltd.  \n",
            "3         RECORD FRAME 7\" SINGLE SIZE    2.10        42         Apple Inc.  \n",
            "4       STRAWBERRY CERAMIC TRINKET BOX   1.25        90       Samsung Ltd.  \n",
            "Total unique rows: 4932\n"
          ]
        }
      ]
    },
    {
      "cell_type": "code",
      "source": [
        "len(df_final['StockCode'].unique())"
      ],
      "metadata": {
        "colab": {
          "base_uri": "https://localhost:8080/"
        },
        "id": "a_Wioe3HCk0-",
        "outputId": "cbfcfc64-bc38-449c-b99e-36bff1480403"
      },
      "execution_count": null,
      "outputs": [
        {
          "output_type": "execute_result",
          "data": {
            "text/plain": [
              "4932"
            ]
          },
          "metadata": {},
          "execution_count": 36
        }
      ]
    },
    {
      "cell_type": "code",
      "source": [
        "len(df_final)"
      ],
      "metadata": {
        "colab": {
          "base_uri": "https://localhost:8080/"
        },
        "id": "aNWck2dqCncS",
        "outputId": "a07a85b9-616a-4c7b-e73b-768c9d7bc72a"
      },
      "execution_count": null,
      "outputs": [
        {
          "output_type": "execute_result",
          "data": {
            "text/plain": [
              "4932"
            ]
          },
          "metadata": {},
          "execution_count": 37
        }
      ]
    },
    {
      "cell_type": "code",
      "source": [
        "df_final.to_csv('final_dummy_data.csv', index=False)"
      ],
      "metadata": {
        "id": "drR97tzJCpfd"
      },
      "execution_count": null,
      "outputs": []
    },
    {
      "cell_type": "code",
      "source": [],
      "metadata": {
        "id": "dybAcFw6C4mj"
      },
      "execution_count": null,
      "outputs": []
    }
  ]
}